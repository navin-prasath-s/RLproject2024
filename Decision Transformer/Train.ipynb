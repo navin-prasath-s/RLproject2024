{
 "cells": [
  {
   "cell_type": "code",
   "execution_count": null,
   "id": "initial_id",
   "metadata": {
    "collapsed": true
   },
   "outputs": [],
   "source": [
    "import torch\n",
    "import torch.nn as nn\n",
    "import torch.nn.functional as F\n",
    "import torch.optim as optim\n",
    "from torch.utils.data import DataLoader\n",
    "from torch.nn.utils import clip_grad_norm_\n",
    "from tqdm import tqdm, trange\n",
    "import numpy as np\n",
    "import random\n",
    "import sys\n",
    "import gc\n",
    "from pympler import asizeof\n",
    "from progress_table import ProgressTable\n",
    "from DataLoader import RLDataProcessor, RLDataset"
   ]
  },
  {
   "cell_type": "code",
   "execution_count": null,
   "outputs": [],
   "source": [
    "config = Config()\n",
    "model = DecisionTransformer(config)\n",
    "optimizer = optim.AdamW(model.parameters(), lr=0.0001)\n",
    "criterion = nn.CrossEntropyLoss()\n",
    "n_epochs = 2"
   ],
   "metadata": {
    "collapsed": false
   },
   "id": "8b74e7fa3b943964"
  },
  {
   "cell_type": "code",
   "execution_count": null,
   "outputs": [],
   "source": [
    "file_path = \"highway\"\n",
    "processor = RLDataProcessor()\n",
    "processor.load_data(file_path)\n",
    "processor.calculate_returns_and_timesteps()\n",
    "print(asizeof.asizeof(processor, detail=1))"
   ],
   "metadata": {
    "collapsed": false
   },
   "id": "bbd91756de30e6d6"
  },
  {
   "cell_type": "code",
   "execution_count": null,
   "outputs": [],
   "source": [
    "dataset = RLDataset(processor, 10)\n",
    "del processor\n",
    "gc.collect()\n",
    "print(asizeof.asizeof(dataset, detail=1))"
   ],
   "metadata": {
    "collapsed": false
   },
   "id": "4cde569df2db8ca5"
  },
  {
   "cell_type": "code",
   "execution_count": null,
   "outputs": [],
   "source": [
    "dataloader = DataLoader(dataset, batch_size=2)\n",
    "del dataset\n",
    "gc.collect()\n",
    "asizeof.asizeof(dataloader, detail=1)"
   ],
   "metadata": {
    "collapsed": false
   },
   "id": "82594332141cd324"
  },
  {
   "cell_type": "code",
   "execution_count": null,
   "outputs": [],
   "source": [
    "if __name__ == \"__main__\":\n",
    "    np.random.seed(1234)\n",
    "    random.seed(1234)\n",
    "    torch.manual_seed(1234)\n",
    "    train_model(model, dataloader, optimizer, criterion, n_epochs)"
   ],
   "metadata": {
    "collapsed": false
   },
   "id": "b003ebf65a67c252"
  },
  {
   "cell_type": "code",
   "execution_count": null,
   "outputs": [],
   "source": [],
   "metadata": {
    "collapsed": false
   },
   "id": "5aa2e25e5181830b"
  }
 ],
 "metadata": {
  "kernelspec": {
   "display_name": "Python 3",
   "language": "python",
   "name": "python3"
  },
  "language_info": {
   "codemirror_mode": {
    "name": "ipython",
    "version": 2
   },
   "file_extension": ".py",
   "mimetype": "text/x-python",
   "name": "python",
   "nbconvert_exporter": "python",
   "pygments_lexer": "ipython2",
   "version": "2.7.6"
  }
 },
 "nbformat": 4,
 "nbformat_minor": 5
}
